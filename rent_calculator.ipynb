{
 "cells": [
  {
   "cell_type": "markdown",
   "id": "e9eff314",
   "metadata": {},
   "source": [
    "# Rent Calculator in Python \n",
    "\n",
    "## * Inputs we need from the user\n",
    "## * Total rent\n",
    "## * Total food ordered for snacking\n",
    "## * Electricity units spend\n",
    "## * Charge per unit \n",
    "## * Persons living in room/flat\n",
    "\n",
    "## Output\n",
    "### Total amount you've to pay is"
   ]
  },
  {
   "cell_type": "code",
   "execution_count": 3,
   "id": "ace52386",
   "metadata": {},
   "outputs": [
    {
     "name": "stdout",
     "output_type": "stream",
     "text": [
      "Enter your hostel/flat rent = 6500\n",
      "Enter the amount of food ordered = 3500\n",
      "Enter the total of electricity spend = 66\n",
      "Enter the charge per unit = 6.50\n",
      "Enter the number of persons living in room/flat = 2\n",
      "Each person will pay =  5214.0\n"
     ]
    }
   ],
   "source": [
    "\n",
    "\n",
    "rent = int(input(\"Enter your hostel/flat rent = \"))\n",
    "food = int(input(\"Enter the amount of food ordered = \"))\n",
    "electricity_spend = int(input(\"Enter the total of electricity spend = \"))\n",
    "charge_per_unit = float(input(\"Enter the charge per unit = \"))\n",
    "persons = int(input(\"Enter the number of persons living in room/flat = \"))\n",
    "\n",
    "total_bill = electricity_spend * charge_per_unit\n",
    "\n",
    "output = (food + rent + total_bill) // persons\n",
    "\n",
    "print(\"Each person will pay = \", output)\n"
   ]
  },
  {
   "cell_type": "code",
   "execution_count": null,
   "id": "ed4cd8eb",
   "metadata": {},
   "outputs": [],
   "source": []
  }
 ],
 "metadata": {
  "kernelspec": {
   "display_name": "Python 3 (ipykernel)",
   "language": "python",
   "name": "python3"
  },
  "language_info": {
   "codemirror_mode": {
    "name": "ipython",
    "version": 3
   },
   "file_extension": ".py",
   "mimetype": "text/x-python",
   "name": "python",
   "nbconvert_exporter": "python",
   "pygments_lexer": "ipython3",
   "version": "3.11.5"
  }
 },
 "nbformat": 4,
 "nbformat_minor": 5
}
