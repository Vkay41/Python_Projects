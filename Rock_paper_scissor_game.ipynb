{
 "cells": [
  {
   "cell_type": "markdown",
   "id": "312f8fd4",
   "metadata": {},
   "source": [
    "# Rock Paper Scissor Game"
   ]
  },
  {
   "cell_type": "markdown",
   "id": "2cee8b2b",
   "metadata": {},
   "source": [
    "## WORKFLOW OF PROJECT:\n",
    "   #### 1- Input from user(Rock, paper, scissor)\n",
    "   #### 2- Computer choice (Computer will choose randomly not conditionally)\n",
    "   #### 3- Result print\n",
    "\n",
    "## Cases:\n",
    "### A- Rock\n",
    "Rock - Rock = tie\n",
    "\n",
    "Rock - Paper = Paper win\n",
    "\n",
    "Rock - scissor = Rock win\n",
    "\n",
    "### B- Paper\n",
    "Paper - Paper = tie\n",
    "\n",
    "Paper - Rock = Paper win\n",
    "\n",
    "Paper - Scissor = Scissor win\n",
    "\n",
    "### C- Scissor\n",
    "Scissor - Scissor = tie\n",
    "\n",
    "Scissor - Rock = Rock win\n",
    "\n",
    "Scissor - Paper = Scissor win\n"
   ]
  },
  {
   "cell_type": "code",
   "execution_count": 1,
   "id": "f70f5b4b",
   "metadata": {},
   "outputs": [
    {
     "name": "stdout",
     "output_type": "stream",
     "text": [
      "Enter your move = Rock, Paper, Scissor= Rock\n",
      "User choice = Rock, Computer choice = Scissor\n",
      "Rock smashes Scissor = You win\n"
     ]
    }
   ],
   "source": [
    "import random\n",
    "item_list = [\"Rock\", \"Paper\", \"Scissor\"]\n",
    "\n",
    "user_choice = input(\"Enter your move = Rock, Paper, Scissor= \")\n",
    "comp_choice = random.choice(item_list)\n",
    "\n",
    "print(f\"User choice = {user_choice}, Computer choice = {comp_choice}\")\n",
    "\n",
    "if user_choice == comp_choice:\n",
    "    print(\"Both chooses same: = Match Tie\")\n",
    "\n",
    "elif user_choice == \"Rock\":\n",
    "    if comp_choice == \"Paper\":\n",
    "        print(\"Paper covers Rock = Computer Win\")\n",
    "    else:\n",
    "        print(\"Rock smashes Scissor = You win\")\n",
    "\n",
    "elif user_choice == \"Paper\":\n",
    "    if comp_choice == \"Scissor\":\n",
    "        print(\"Scissor cuts paper, Computer Win\")\n",
    "    else:\n",
    "        print(\"Paper covers rock, You win\")\n",
    "\n",
    "elif user_choice == \"Scissor\":\n",
    "    if comp_choice == \"Paper\":\n",
    "        print(\"Scissor cuts paper, You win\")\n",
    "    else:\n",
    "        print(\"Rock smashes scissor, Computer win\")"
   ]
  },
  {
   "cell_type": "code",
   "execution_count": null,
   "id": "461440fa",
   "metadata": {},
   "outputs": [],
   "source": []
  }
 ],
 "metadata": {
  "kernelspec": {
   "display_name": "Python 3 (ipykernel)",
   "language": "python",
   "name": "python3"
  },
  "language_info": {
   "codemirror_mode": {
    "name": "ipython",
    "version": 3
   },
   "file_extension": ".py",
   "mimetype": "text/x-python",
   "name": "python",
   "nbconvert_exporter": "python",
   "pygments_lexer": "ipython3",
   "version": "3.11.5"
  }
 },
 "nbformat": 4,
 "nbformat_minor": 5
}
